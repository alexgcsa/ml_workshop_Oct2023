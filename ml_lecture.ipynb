{
 "cells": [
  {
   "cell_type": "markdown",
   "metadata": {
    "id": "_FsyuNEbzbMx"
   },
   "source": [
    "# Machine Learning Workshop - Predicting Patient Diabetes with Machine Learning"
   ]
  },
  {
   "cell_type": "markdown",
   "metadata": {
    "id": "PqyMvnL-zbM6"
   },
   "source": [
    "## Accessing this material\n",
    "\n",
    "All material used in this workshop can be downloaded at **[https://github.com/alexgcsa/ml_workshop_Oct2023](https://github.com/alexgcsa/ml_workshop_Oct2023)**.\n",
    "\n",
    "Instructions for local installation are detailed in the *README.md* file.\n"
   ]
  },
  {
   "cell_type": "markdown",
   "metadata": {
    "id": "QpIRzrnkzbM7"
   },
   "source": [
    "## Outline\n",
    "- Task Overview;\n",
    "- Download Data and Requirement Files;\n",
    "- Patient Data Exploration;\n",
    "- Supervised Machine Learning:\n",
    "    - Classification -- Identifying diabetic and non-diabetic (healthy) patients.\n"
   ]
  },
  {
   "cell_type": "markdown",
   "metadata": {},
   "source": [
    "##"
   ]
  },
  {
   "cell_type": "markdown",
   "metadata": {},
   "source": [
    "## Task Overview"
   ]
  },
  {
   "cell_type": "markdown",
   "metadata": {
    "id": "MofvlAP1zbM8"
   },
   "source": [
    "The problem we will solve is **predicting patient diabetes with machine learning using medical and demographic data**.\n",
    "\n",
    "For this task, we will use a modified/compacted version of a dataset from a **[Kaggle Competition](https://www.kaggle.com/datasets/iammustafatz/diabetes-prediction-dataset/)**. This dataset includes variables (features) such as:\n",
    " 1) age;\n",
    " 2) gender -- Distinguished in this data between male (1) and female (0);\n",
    " 3) If the patient has or does not have hypertension (0: not having; 1: having);\n",
    " 4) If the patient has or does not have heart disease (0: not having; 1: having);\n",
    " 5) Body Mass Index (BMI);\n",
    " 6) Smoking history -- Never or ever smoked (0: never; ever: 1);\n",
    " 7) Blood glucose level;\n",
    " 8) HbA1c level -- Average blood glucose (sugar) levels for the last two to three months.\n",
    "\n",
    "Together with these features, patients are differentiated by their IDs and diabetes status (0: not having diabetes; 1: having diabetes).\n",
    "\n",
    "We can use this data and these features to build **machine learning models** to predict diabetes in patients based on their medical history and demographic information. \n",
    "\n",
    "This can be useful for healthcare professionals in identifying patients at risk of developing diabetes and in developing personalised treatment plans."
   ]
  },
  {
   "cell_type": "markdown",
   "metadata": {},
   "source": [
    "##"
   ]
  },
  {
   "cell_type": "markdown",
   "metadata": {
    "id": "iWJprSfJzbM-"
   },
   "source": [
    "## Download Data and Requirement Files"
   ]
  },
  {
   "cell_type": "code",
   "execution_count": null,
   "metadata": {
    "id": "EJQlfbS-zbM_"
   },
   "outputs": [],
   "source": [
    "!wget https://raw.githubusercontent.com/alexgcsa/ml_workshop_Oct2023/master/data/diabetes_compact.csv\n",
    "!wget https://raw.githubusercontent.com/alexgcsa/ml_workshop_Oct2023/master/data/diabetes_extra.csv\n",
    "!wget https://raw.githubusercontent.com/alexgcsa/ml_workshop_Oct2023/master/requirements.txt\n",
    "!wget https://raw.githubusercontent.com/alexgcsa/ml_workshop_Oct2023/master/utils.py"
   ]
  },
  {
   "cell_type": "markdown",
   "metadata": {
    "id": "t5QcOsL2zbNB"
   },
   "source": [
    "## Installing dependencies"
   ]
  },
  {
   "cell_type": "code",
   "execution_count": null,
   "metadata": {
    "id": "MmpcOpqDZjWF"
   },
   "outputs": [],
   "source": [
    "!pip install -r requirements.txt"
   ]
  },
  {
   "cell_type": "markdown",
   "metadata": {
    "id": "4lZKLe4IzbND"
   },
   "source": [
    "## Loading libraries"
   ]
  },
  {
   "cell_type": "code",
   "execution_count": 12,
   "metadata": {
    "id": "BQ9flrTHaIEb"
   },
   "outputs": [
    {
     "name": "stdout",
     "output_type": "stream",
     "text": [
      "The autoreload extension is already loaded. To reload it, use:\n",
      "  %reload_ext autoreload\n"
     ]
    }
   ],
   "source": [
    "%load_ext autoreload\n",
    "%autoreload 2\n",
    "\n",
    "from plotly.offline import iplot, init_notebook_mode\n",
    "from plotly.subplots import make_subplots\n",
    "import matplotlib.pyplot as plt\n",
    "import plotly.express as px\n",
    "import plotly.graph_objects as go\n",
    "\n",
    "from sklearn import tree\n",
    "from sklearn.feature_selection import VarianceThreshold\n",
    "from sklearn.model_selection import cross_val_predict, train_test_split\n",
    "\n",
    "\n",
    "import numpy as np\n",
    "import pandas as pd\n",
    "import time\n",
    "\n",
    "import utils\n",
    "\n",
    "import warnings\n",
    "\n",
    "warnings.simplefilter(action='ignore', category=FutureWarning)"
   ]
  },
  {
   "cell_type": "markdown",
   "metadata": {},
   "source": [
    "##"
   ]
  },
  {
   "cell_type": "markdown",
   "metadata": {
    "id": "N_15evfSzbNE"
   },
   "source": [
    "## Exploring the data"
   ]
  },
  {
   "cell_type": "code",
   "execution_count": 34,
   "metadata": {
    "id": "6IMnadvDatyN"
   },
   "outputs": [
    {
     "name": "stdout",
     "output_type": "stream",
     "text": [
      "(550, 8)\n"
     ]
    },
    {
     "data": {
      "text/html": [
       "<div>\n",
       "<style scoped>\n",
       "    .dataframe tbody tr th:only-of-type {\n",
       "        vertical-align: middle;\n",
       "    }\n",
       "\n",
       "    .dataframe tbody tr th {\n",
       "        vertical-align: top;\n",
       "    }\n",
       "\n",
       "    .dataframe thead th {\n",
       "        text-align: right;\n",
       "    }\n",
       "</style>\n",
       "<table border=\"1\" class=\"dataframe\">\n",
       "  <thead>\n",
       "    <tr style=\"text-align: right;\">\n",
       "      <th></th>\n",
       "      <th>patient_id</th>\n",
       "      <th>gender</th>\n",
       "      <th>age</th>\n",
       "      <th>hypertension</th>\n",
       "      <th>heart_disease</th>\n",
       "      <th>bmi</th>\n",
       "      <th>smoking_history</th>\n",
       "      <th>diabetes</th>\n",
       "    </tr>\n",
       "  </thead>\n",
       "  <tbody>\n",
       "    <tr>\n",
       "      <th>0</th>\n",
       "      <td>55356</td>\n",
       "      <td>0</td>\n",
       "      <td>29</td>\n",
       "      <td>0</td>\n",
       "      <td>0</td>\n",
       "      <td>26.67</td>\n",
       "      <td>0</td>\n",
       "      <td>0</td>\n",
       "    </tr>\n",
       "    <tr>\n",
       "      <th>1</th>\n",
       "      <td>899</td>\n",
       "      <td>0</td>\n",
       "      <td>38</td>\n",
       "      <td>0</td>\n",
       "      <td>0</td>\n",
       "      <td>29.64</td>\n",
       "      <td>1</td>\n",
       "      <td>0</td>\n",
       "    </tr>\n",
       "    <tr>\n",
       "      <th>2</th>\n",
       "      <td>95746</td>\n",
       "      <td>0</td>\n",
       "      <td>24</td>\n",
       "      <td>0</td>\n",
       "      <td>0</td>\n",
       "      <td>29.83</td>\n",
       "      <td>0</td>\n",
       "      <td>0</td>\n",
       "    </tr>\n",
       "    <tr>\n",
       "      <th>3</th>\n",
       "      <td>1048</td>\n",
       "      <td>0</td>\n",
       "      <td>61</td>\n",
       "      <td>0</td>\n",
       "      <td>1</td>\n",
       "      <td>27.19</td>\n",
       "      <td>1</td>\n",
       "      <td>0</td>\n",
       "    </tr>\n",
       "    <tr>\n",
       "      <th>4</th>\n",
       "      <td>24624</td>\n",
       "      <td>0</td>\n",
       "      <td>45</td>\n",
       "      <td>0</td>\n",
       "      <td>0</td>\n",
       "      <td>24.30</td>\n",
       "      <td>0</td>\n",
       "      <td>0</td>\n",
       "    </tr>\n",
       "    <tr>\n",
       "      <th>5</th>\n",
       "      <td>86217</td>\n",
       "      <td>0</td>\n",
       "      <td>55</td>\n",
       "      <td>0</td>\n",
       "      <td>0</td>\n",
       "      <td>27.32</td>\n",
       "      <td>0</td>\n",
       "      <td>0</td>\n",
       "    </tr>\n",
       "    <tr>\n",
       "      <th>6</th>\n",
       "      <td>65787</td>\n",
       "      <td>1</td>\n",
       "      <td>49</td>\n",
       "      <td>0</td>\n",
       "      <td>0</td>\n",
       "      <td>27.47</td>\n",
       "      <td>1</td>\n",
       "      <td>0</td>\n",
       "    </tr>\n",
       "    <tr>\n",
       "      <th>7</th>\n",
       "      <td>39339</td>\n",
       "      <td>0</td>\n",
       "      <td>17</td>\n",
       "      <td>0</td>\n",
       "      <td>0</td>\n",
       "      <td>19.77</td>\n",
       "      <td>0</td>\n",
       "      <td>0</td>\n",
       "    </tr>\n",
       "    <tr>\n",
       "      <th>8</th>\n",
       "      <td>76637</td>\n",
       "      <td>0</td>\n",
       "      <td>53</td>\n",
       "      <td>0</td>\n",
       "      <td>0</td>\n",
       "      <td>24.88</td>\n",
       "      <td>1</td>\n",
       "      <td>0</td>\n",
       "    </tr>\n",
       "    <tr>\n",
       "      <th>9</th>\n",
       "      <td>27763</td>\n",
       "      <td>1</td>\n",
       "      <td>37</td>\n",
       "      <td>0</td>\n",
       "      <td>0</td>\n",
       "      <td>34.62</td>\n",
       "      <td>0</td>\n",
       "      <td>0</td>\n",
       "    </tr>\n",
       "  </tbody>\n",
       "</table>\n",
       "</div>"
      ],
      "text/plain": [
       "   patient_id  gender  age  hypertension  heart_disease    bmi  \\\n",
       "0       55356       0   29             0              0  26.67   \n",
       "1         899       0   38             0              0  29.64   \n",
       "2       95746       0   24             0              0  29.83   \n",
       "3        1048       0   61             0              1  27.19   \n",
       "4       24624       0   45             0              0  24.30   \n",
       "5       86217       0   55             0              0  27.32   \n",
       "6       65787       1   49             0              0  27.47   \n",
       "7       39339       0   17             0              0  19.77   \n",
       "8       76637       0   53             0              0  24.88   \n",
       "9       27763       1   37             0              0  34.62   \n",
       "\n",
       "   smoking_history  diabetes  \n",
       "0                0         0  \n",
       "1                1         0  \n",
       "2                0         0  \n",
       "3                1         0  \n",
       "4                0         0  \n",
       "5                0         0  \n",
       "6                1         0  \n",
       "7                0         0  \n",
       "8                1         0  \n",
       "9                0         0  "
      ]
     },
     "execution_count": 34,
     "metadata": {},
     "output_type": "execute_result"
    }
   ],
   "source": [
    "# Load data from file to a DataFrame structure:\n",
    "df_data = pd.read_csv(\"data/diabetes_compact.csv\") \n",
    "\n",
    "print(df_data.shape) # .shape displays how the dataframe (matrix) looks like\n",
    "df_data.head(10) # .head(10) displays the first 10 items in the dataframe"
   ]
  },
  {
   "cell_type": "code",
   "execution_count": 69,
   "metadata": {},
   "outputs": [
    {
     "data": {
      "text/html": [
       "<div>\n",
       "<style scoped>\n",
       "    .dataframe tbody tr th:only-of-type {\n",
       "        vertical-align: middle;\n",
       "    }\n",
       "\n",
       "    .dataframe tbody tr th {\n",
       "        vertical-align: top;\n",
       "    }\n",
       "\n",
       "    .dataframe thead th {\n",
       "        text-align: right;\n",
       "    }\n",
       "</style>\n",
       "<table border=\"1\" class=\"dataframe\">\n",
       "  <thead>\n",
       "    <tr style=\"text-align: right;\">\n",
       "      <th></th>\n",
       "      <th>patient_id</th>\n",
       "      <th>gender</th>\n",
       "      <th>age</th>\n",
       "      <th>hypertension</th>\n",
       "      <th>heart_disease</th>\n",
       "      <th>bmi</th>\n",
       "      <th>smoking_history</th>\n",
       "      <th>diabetes</th>\n",
       "    </tr>\n",
       "  </thead>\n",
       "  <tbody>\n",
       "    <tr>\n",
       "      <th>540</th>\n",
       "      <td>59918</td>\n",
       "      <td>1</td>\n",
       "      <td>47</td>\n",
       "      <td>0</td>\n",
       "      <td>0</td>\n",
       "      <td>29.48</td>\n",
       "      <td>1</td>\n",
       "      <td>1</td>\n",
       "    </tr>\n",
       "    <tr>\n",
       "      <th>541</th>\n",
       "      <td>64512</td>\n",
       "      <td>1</td>\n",
       "      <td>34</td>\n",
       "      <td>1</td>\n",
       "      <td>0</td>\n",
       "      <td>30.30</td>\n",
       "      <td>0</td>\n",
       "      <td>1</td>\n",
       "    </tr>\n",
       "    <tr>\n",
       "      <th>542</th>\n",
       "      <td>90682</td>\n",
       "      <td>1</td>\n",
       "      <td>61</td>\n",
       "      <td>0</td>\n",
       "      <td>0</td>\n",
       "      <td>36.18</td>\n",
       "      <td>1</td>\n",
       "      <td>1</td>\n",
       "    </tr>\n",
       "    <tr>\n",
       "      <th>543</th>\n",
       "      <td>30329</td>\n",
       "      <td>1</td>\n",
       "      <td>71</td>\n",
       "      <td>0</td>\n",
       "      <td>0</td>\n",
       "      <td>37.90</td>\n",
       "      <td>1</td>\n",
       "      <td>1</td>\n",
       "    </tr>\n",
       "    <tr>\n",
       "      <th>544</th>\n",
       "      <td>52284</td>\n",
       "      <td>1</td>\n",
       "      <td>42</td>\n",
       "      <td>1</td>\n",
       "      <td>0</td>\n",
       "      <td>25.51</td>\n",
       "      <td>1</td>\n",
       "      <td>1</td>\n",
       "    </tr>\n",
       "    <tr>\n",
       "      <th>545</th>\n",
       "      <td>35013</td>\n",
       "      <td>0</td>\n",
       "      <td>80</td>\n",
       "      <td>1</td>\n",
       "      <td>0</td>\n",
       "      <td>25.60</td>\n",
       "      <td>1</td>\n",
       "      <td>1</td>\n",
       "    </tr>\n",
       "    <tr>\n",
       "      <th>546</th>\n",
       "      <td>4003</td>\n",
       "      <td>0</td>\n",
       "      <td>73</td>\n",
       "      <td>1</td>\n",
       "      <td>0</td>\n",
       "      <td>27.80</td>\n",
       "      <td>0</td>\n",
       "      <td>1</td>\n",
       "    </tr>\n",
       "    <tr>\n",
       "      <th>547</th>\n",
       "      <td>88088</td>\n",
       "      <td>0</td>\n",
       "      <td>48</td>\n",
       "      <td>1</td>\n",
       "      <td>0</td>\n",
       "      <td>30.53</td>\n",
       "      <td>0</td>\n",
       "      <td>1</td>\n",
       "    </tr>\n",
       "    <tr>\n",
       "      <th>548</th>\n",
       "      <td>87553</td>\n",
       "      <td>1</td>\n",
       "      <td>45</td>\n",
       "      <td>0</td>\n",
       "      <td>1</td>\n",
       "      <td>36.47</td>\n",
       "      <td>1</td>\n",
       "      <td>1</td>\n",
       "    </tr>\n",
       "    <tr>\n",
       "      <th>549</th>\n",
       "      <td>36625</td>\n",
       "      <td>0</td>\n",
       "      <td>80</td>\n",
       "      <td>0</td>\n",
       "      <td>1</td>\n",
       "      <td>29.54</td>\n",
       "      <td>0</td>\n",
       "      <td>1</td>\n",
       "    </tr>\n",
       "  </tbody>\n",
       "</table>\n",
       "</div>"
      ],
      "text/plain": [
       "     patient_id  gender  age  hypertension  heart_disease    bmi  \\\n",
       "540       59918       1   47             0              0  29.48   \n",
       "541       64512       1   34             1              0  30.30   \n",
       "542       90682       1   61             0              0  36.18   \n",
       "543       30329       1   71             0              0  37.90   \n",
       "544       52284       1   42             1              0  25.51   \n",
       "545       35013       0   80             1              0  25.60   \n",
       "546        4003       0   73             1              0  27.80   \n",
       "547       88088       0   48             1              0  30.53   \n",
       "548       87553       1   45             0              1  36.47   \n",
       "549       36625       0   80             0              1  29.54   \n",
       "\n",
       "     smoking_history  diabetes  \n",
       "540                1         1  \n",
       "541                0         1  \n",
       "542                1         1  \n",
       "543                1         1  \n",
       "544                1         1  \n",
       "545                1         1  \n",
       "546                0         1  \n",
       "547                0         1  \n",
       "548                1         1  \n",
       "549                0         1  "
      ]
     },
     "execution_count": 69,
     "metadata": {},
     "output_type": "execute_result"
    }
   ],
   "source": [
    "df_data.tail(10) # .tail(10) displays the last 10 items in the dataframe"
   ]
  },
  {
   "cell_type": "markdown",
   "metadata": {},
   "source": [
    "###"
   ]
  },
  {
   "cell_type": "markdown",
   "metadata": {},
   "source": [
    "### Plotting the distribution of diabetic patients *versus* non-diabetic patients"
   ]
  },
  {
   "cell_type": "code",
   "execution_count": 33,
   "metadata": {
    "id": "P_k_WsFgcIg1"
   },
   "outputs": [
    {
     "data": {
      "image/png": "[encoded data removed]",
      "text/plain": [
       "<Figure size 640x480 with 1 Axes>"
      ]
     },
     "metadata": {},
     "output_type": "display_data"
    }
   ],
   "source": [
    "#Counting the frequencies:\n",
    "diabetes_counts = dict(df_data[\"diabetes\"].value_counts())\n",
    "\n",
    "#Setting the classes:\n",
    "classes = [\"Non-Diabetic (0)\", \"Diabetic (1)\"]\n",
    "\n",
    "#Getting the values per class:\n",
    "values = list(diabetes_counts.values())\n",
    "\n",
    "#Making the plot:\n",
    "fig = plt.bar(classes, values, color ='purple',  width = 0.5)"
   ]
  },
  {
   "cell_type": "code",
   "execution_count": null,
   "metadata": {},
   "outputs": [],
   "source": []
  },
  {
   "cell_type": "code",
   "execution_count": null,
   "metadata": {},
   "outputs": [],
   "source": []
  },
  {
   "cell_type": "code",
   "execution_count": 68,
   "metadata": {
    "id": "E3P_qZGdcoZs"
   },
   "outputs": [
    {
     "data": {
      "text/html": [
       "<html>\n",
       "<head><meta charset=\"utf-8\" /></head>\n",
       "<body>\n",
       "    <div>            <script src=\"https://cdnjs.cloudflare.com/ajax/libs/mathjax/2.7.5/MathJax.js?config=TeX-AMS-MML_SVG\"></script><script type=\"text/javascript\">if (window.MathJax && window.MathJax.Hub && window.MathJax.Hub.Config) {window.MathJax.Hub.Config({SVG: {font: \"STIX-Web\"}});}</script>                <script type=\"text/javascript\">window.PlotlyConfig = {MathJaxConfig: 'local'};</script>\n",
       "        <script charset=\"utf-8\" src=\"https://cdn.plot.ly/plotly-2.26.0.min.js\"></script>                <div id=\"f28b1b69-d494-479f-ad62-06a4cc4c81b2\" class=\"plotly-graph-div\" style=\"height:525px; width:100%;\"></div>            <script type=\"text/javascript\">                                    window.PLOTLYENV=window.PLOTLYENV || {};                                    if (document.getElementById(\"f28b1b69-d494-479f-ad62-06a4cc4c81b2\")) {                    Plotly.newPlot(                        \"f28b1b69-d494-479f-ad62-06a4cc4c81b2\",                        [{\"name\":\"bmi\",\"x\":[26.67,29.64,29.83,27.19,24.3,27.32,27.47,19.77,24.88,34.62,27.32,33.16,25.34,30.13,31.49,23.96,30.29,26.49,30.79,32.75,27.83,27.32,32.77,29.3,17.91,28.19,19.59,24.1,27.32,22.68,20.0,40.54,28.01,46.88,24.07,31.81,27.32,22.16,27.66,27.32,29.97,22.76,44.64,23.5,32.48,42.51,21.61,20.37,27.32,27.32,22.38,28.02,38.26,27.32,22.64,34.11,24.84,32.75,41.7,23.53,21.49,25.46,27.32,34.9,24.47,30.3,17.1,25.05,32.35,25.06,26.7,27.32,23.41,19.86,23.11,27.32,25.05,25.72,35.4,18.47,31.11,18.42,27.32,23.43,30.59,57.41,27.32,23.21,29.99,29.31,27.32,21.53,25.58,40.49,35.27,25.77,16.72,26.14,33.25,24.98,29.1,24.76,24.38,29.52,27.32,23.01,26.83,23.8,36.15,29.54,27.32,24.32,30.91,19.84,38.23,36.37,24.93,20.12,25.15,24.6,27.32,28.06,27.32,31.86,25.05,43.09,20.08,27.32,27.32,37.6,27.32,23.51,27.32,25.19,24.05,23.13,22.21,27.32,32.3,22.13,27.38,32.37,20.62,27.82,30.59,27.32,33.78,27.32,25.27,27.32,23.74,28.71,39.29,34.33,31.0,27.0,30.87,27.32,29.15,21.3,35.65,23.8,24.71,25.64,31.82,25.07,28.09,30.38,15.41,30.98,24.63,22.15,19.57,25.15,27.1,25.6,29.02,23.32,25.98,32.26,27.76,40.93,27.32,27.32,35.13,26.17,23.64,27.32,41.78,26.0,28.5,27.32,29.86,33.31,21.6,25.63,29.15,44.47,24.61,36.37,27.32,27.32,24.93,36.46,26.11,30.54,24.03,30.9,30.29,25.0,22.88,20.48,28.35,24.74,27.32,26.89,27.32,27.32,21.67,35.19,27.32,18.97,32.77,25.85,24.54,22.07,27.32,27.22,27.4,33.14,28.37,35.74,30.59,27.25,25.8,37.58,25.78,21.06,27.32,31.18,29.55,32.78,27.32,26.57,34.3,23.5,24.1,27.32,27.3,29.7,27.32,39.31,19.41,26.25,20.88,27.41,19.84,23.4,28.64,34.99,27.32,35.36,23.3,17.5,27.32,36.97,32.85,34.27,26.48,35.1,23.8,48.71,29.45,24.27,27.96,24.03,27.32,33.73,25.5,30.6,27.12,32.01,22.03,35.11,25.66,30.95,30.97,27.32,25.42,17.02,21.0,47.4,27.32,32.63,28.57,26.63,21.03,27.0,27.38,27.32,27.32,47.12,27.53,36.2,38.31,23.67,27.32,33.25,26.78,27.32,27.32,22.12,27.32,41.81,24.85,27.32,27.32,27.32,29.15,27.32,28.81,18.19,24.19,23.58,24.4,25.85,28.35,24.44,44.55,45.83,31.49,27.5,36.19,36.04,21.87,29.64,24.29,28.07,27.32,27.32,27.32,27.32,27.32,23.06,33.2,24.18,31.04,32.73,27.32,27.32,30.8,27.32,27.32,30.85,28.94,28.22,30.78,32.98,27.32,28.54,31.05,37.14,32.83,31.48,19.56,25.53,27.7,41.95,27.32,27.32,32.57,23.54,24.74,21.96,21.01,23.11,27.32,50.76,25.49,31.54,23.65,26.41,13.8,30.13,27.32,27.32,31.58,25.6,32.61,20.77,35.44,34.95,29.41,26.2,33.7,27.32,27.32,19.57,27.32,27.32,36.21,38.08,28.08,25.6,41.78,52.14,29.76,37.45,38.53,30.51,27.56,35.57,33.0,29.3,27.88,29.6,18.86,22.65,26.41,39.03,50.7,30.7,35.41,33.62,42.12,38.0,27.32,35.27,27.32,46.06,38.39,45.52,35.13,26.0,43.34,27.32,23.13,35.32,26.26,33.11,27.32,27.32,35.01,27.97,27.37,33.76,33.96,21.32,37.26,31.63,19.37,27.32,24.86,31.1,34.67,27.28,46.89,33.0,37.74,27.45,28.08,25.67,26.1,32.95,48.81,27.32,28.06,21.77,31.21,49.23,27.32,27.32,27.32,32.28,27.32,27.8,42.92,44.54,31.18,32.01,27.32,25.96,30.12,41.66,27.32,25.4,31.82,29.73,24.34,79.46,29.29,22.6,27.32,33.87,49.18,29.72,42.32,22.58,45.76,25.53,30.62,51.71,27.99,30.6,27.32,25.32,22.77,42.27,43.1,43.85,50.25,27.32,34.5,27.32,33.19,27.32,27.68,37.02,34.51,45.89,27.32,38.4,32.25,22.0,26.09,27.32,27.32,45.77,24.63,24.15,39.33,33.81,30.1,27.32,39.2,30.4,30.18,27.32,27.24,32.21,29.48,30.3,36.18,37.9,25.51,25.6,27.8,30.53,36.47,29.54],\"type\":\"histogram\",\"xaxis\":\"x\",\"yaxis\":\"y\"},{\"name\":\"smoking_history\",\"x\":[0,1,0,1,0,0,1,0,1,0,0,0,1,1,1,0,0,0,0,1,1,1,0,0,1,0,0,0,0,1,1,1,1,1,1,1,0,1,1,1,0,0,0,1,0,0,0,0,0,1,0,0,1,1,0,0,1,1,0,1,0,1,0,0,1,0,0,0,1,1,1,1,0,0,1,0,0,0,0,0,0,0,1,1,1,0,1,0,0,1,0,1,0,0,1,0,1,0,0,0,0,0,0,0,0,0,1,0,0,0,0,0,1,0,1,0,0,1,0,0,1,0,0,0,0,1,1,0,1,0,0,1,0,1,0,0,1,1,0,0,0,0,0,0,1,0,1,0,1,0,0,1,0,1,1,0,1,0,1,1,1,1,1,0,0,0,1,0,1,0,1,1,0,0,0,0,1,0,0,0,1,1,0,0,0,1,1,0,0,1,0,1,1,0,1,1,0,0,1,0,1,0,0,1,0,1,0,1,1,0,1,0,0,0,0,1,1,0,0,1,1,0,0,1,0,1,1,1,1,1,0,1,0,1,1,0,1,0,0,0,1,1,1,0,1,1,1,1,1,1,1,0,1,0,1,1,1,0,1,1,0,1,0,0,1,0,1,1,1,1,0,1,0,1,1,0,0,1,0,0,1,1,0,0,0,0,1,1,0,0,1,0,1,0,0,0,1,0,1,0,0,1,0,0,1,0,0,1,1,0,1,0,0,1,1,1,0,1,0,0,1,0,0,0,0,0,0,0,0,0,1,0,0,1,0,0,1,0,1,0,0,1,1,0,1,1,1,0,0,0,0,1,1,1,0,1,0,1,0,0,0,1,0,0,0,0,0,0,1,1,0,1,0,1,0,0,0,0,0,1,0,1,1,0,1,1,0,0,0,1,1,1,0,0,1,0,1,1,0,0,1,0,0,0,0,0,0,1,0,1,1,0,1,0,0,0,0,1,0,0,1,1,0,0,1,0,0,0,1,0,1,1,1,0,0,0,1,0,1,0,0,1,1,1,1,1,0,1,1,0,1,0,0,0,0,1,0,0,0,1,1,0,0,1,0,0,1,1,0,0,0,0,1,1,1,1,0,1,0,1,0,0,1,0,0,0,1,1,1,0,0,1,1,1,1,0,0,1,0,1,1,0,0,0,1,0,0,1,1,1,0,0,1,0,0,1,0,1,1,1,0,0,0,0,1,1,1,0,1,0,0,0,0,1,0,0,0,0,1,0,1,0,1,1,1,1,0,0,1,0],\"type\":\"histogram\",\"xaxis\":\"x2\",\"yaxis\":\"y2\"},{\"name\":\"hypertension\",\"x\":[0,0,0,0,0,0,0,0,0,0,0,0,0,0,0,0,0,0,0,0,0,0,0,0,0,0,0,0,0,1,0,0,0,0,0,0,0,0,0,0,0,0,0,0,0,0,0,0,0,0,0,0,1,0,0,0,0,0,0,0,0,0,0,0,0,0,0,1,0,0,0,1,0,0,0,1,0,0,0,0,0,0,0,0,1,1,0,0,0,0,0,0,0,0,0,0,0,0,0,1,0,0,0,1,0,0,0,0,0,0,0,0,1,0,0,0,0,0,0,0,0,0,0,0,0,1,0,0,0,0,0,0,0,0,1,0,1,0,0,0,0,0,0,0,0,0,1,0,0,0,0,0,1,0,0,0,1,0,0,0,0,0,0,0,0,0,0,0,0,1,0,0,0,0,1,0,0,0,0,0,0,0,0,0,0,0,0,0,1,0,0,0,0,0,0,0,0,0,0,0,0,0,0,0,0,1,0,0,0,0,0,0,0,0,0,0,0,0,0,0,0,0,0,0,0,0,0,0,0,1,0,0,0,0,0,0,0,0,0,0,0,0,0,0,1,0,1,0,1,0,0,0,0,0,0,0,0,0,0,0,0,1,0,0,0,1,0,0,0,0,0,0,0,0,0,0,0,0,0,0,0,0,0,0,0,0,0,0,0,0,0,0,0,0,0,0,0,0,0,0,0,0,0,0,0,0,0,0,0,0,0,0,0,0,0,0,0,0,0,0,0,0,0,1,0,0,0,0,0,1,0,0,0,0,0,1,0,0,0,0,1,0,0,0,0,0,0,0,0,0,0,0,1,0,0,0,0,0,0,0,0,0,0,1,0,0,0,0,0,0,0,0,0,0,0,0,0,0,0,0,0,0,0,0,1,0,0,0,0,0,1,0,0,0,0,0,0,0,0,0,0,0,0,0,1,0,1,0,0,0,0,0,0,0,0,1,0,0,0,0,0,0,0,0,0,1,0,0,0,0,1,0,0,0,0,0,0,1,0,0,1,0,0,0,0,0,0,1,0,0,0,0,0,0,0,0,1,1,0,0,0,0,0,1,1,1,0,1,1,0,0,0,0,0,0,0,0,1,1,0,1,1,0,0,0,0,0,0,0,0,0,0,0,1,0,0,0,0,0,1,0,0,0,1,0,0,0,0,0,0,1,1,0,0,0,0,0,1,1,0,0,0,1,0,1,1,0,0,0,0,0,0,1,0,0,1,1,0,0,0,0,1,0,0,1,1,1,1,0,0],\"type\":\"histogram\",\"xaxis\":\"x3\",\"yaxis\":\"y3\"},{\"name\":\"heart_disease\",\"x\":[0,0,0,1,0,0,0,0,0,0,0,0,0,0,0,0,0,0,0,0,0,0,0,0,0,0,0,0,0,0,0,0,0,0,0,0,0,0,0,0,0,0,0,0,1,0,0,0,0,0,0,0,0,0,0,0,0,0,0,0,0,0,0,0,0,0,0,0,0,0,0,0,0,0,0,0,0,0,0,0,0,0,0,0,0,0,0,0,0,0,0,0,0,0,0,0,0,0,0,1,0,0,0,0,0,0,0,0,0,0,0,0,0,0,0,0,0,0,0,0,0,0,0,0,0,0,0,0,0,0,0,0,0,0,0,0,0,0,0,0,0,0,0,0,0,0,0,0,0,0,0,0,0,0,0,0,0,0,0,0,0,0,0,0,0,0,0,0,0,0,0,0,0,0,0,0,0,0,0,0,0,0,0,0,0,0,0,0,0,0,0,0,0,0,0,0,0,0,0,0,0,0,0,0,1,0,0,0,0,0,0,0,0,0,0,0,0,0,0,0,0,0,0,1,0,0,0,0,0,0,0,1,0,0,0,0,0,0,0,0,0,0,0,0,0,0,1,0,0,0,0,0,0,0,1,0,0,0,0,0,0,0,0,0,0,0,0,0,0,0,1,0,0,0,1,0,0,0,0,0,0,0,0,0,0,0,0,0,0,0,0,0,0,0,0,0,0,0,0,0,0,0,0,0,0,0,0,0,1,0,0,0,0,0,0,0,0,0,0,0,0,0,0,0,0,0,0,0,0,0,0,0,0,0,0,0,0,0,0,0,0,0,0,0,0,0,1,0,0,0,0,0,0,0,0,0,0,0,0,0,0,0,0,0,0,1,0,0,0,0,0,0,0,0,0,0,0,0,0,0,0,0,0,0,0,1,0,0,0,0,1,0,0,0,0,0,0,0,0,0,0,0,0,1,0,0,0,0,1,1,0,0,0,0,0,0,0,0,1,0,0,0,0,0,0,0,0,0,0,0,0,0,0,1,1,0,0,0,0,0,0,0,0,0,0,0,0,0,0,0,0,0,0,0,0,0,0,0,0,1,0,0,0,0,0,0,0,1,0,0,0,0,0,0,0,0,0,0,0,0,0,0,1,1,0,0,0,0,1,0,1,1,0,1,0,0,0,0,0,0,0,0,0,0,0,0,0,0,0,0,0,0,0,0,0,0,1,0,1,0,0,0,0,1,0,1,0,0,0,0,0,1,0,0,0,0,0,0,0,0,0,0,0,0,0,0,0,0,1,1],\"type\":\"histogram\",\"xaxis\":\"x4\",\"yaxis\":\"y4\"},{\"name\":\"gender\",\"x\":[0,0,0,0,0,0,1,0,0,1,1,0,0,1,1,0,0,1,1,1,1,0,0,1,1,0,0,0,0,1,0,1,1,1,0,0,0,1,1,1,1,0,1,0,1,1,0,1,0,1,0,0,0,0,0,1,1,1,0,1,0,1,0,1,0,0,0,1,1,1,0,0,0,0,1,1,0,1,0,0,0,1,1,0,0,0,0,0,0,1,1,1,0,1,1,0,0,0,0,1,1,0,0,1,0,0,1,0,0,0,1,0,0,0,0,1,1,0,0,1,0,1,0,1,0,0,0,1,1,1,0,0,1,0,0,0,0,1,0,0,0,1,0,0,0,0,0,0,1,0,0,0,0,1,0,0,0,0,0,0,0,1,0,1,0,0,1,0,1,1,0,0,0,0,1,1,1,0,0,1,1,0,0,0,1,1,0,1,0,0,0,0,1,0,0,0,0,0,0,1,1,1,1,1,1,0,0,0,0,1,0,0,1,0,0,0,0,1,0,0,0,0,0,0,1,1,1,1,0,1,1,0,1,0,1,0,1,0,1,0,1,0,0,0,0,0,0,1,0,0,0,0,0,0,0,0,0,1,0,1,0,0,0,1,0,0,1,0,1,0,0,0,1,0,0,0,0,1,1,0,1,0,1,0,1,0,1,1,0,0,0,1,0,1,0,0,0,0,0,0,0,0,0,0,0,0,0,0,1,1,1,1,1,0,0,0,1,0,1,0,0,0,1,0,1,0,0,0,0,0,1,0,1,0,0,0,0,0,0,0,1,1,0,0,0,0,1,0,0,1,1,1,0,0,1,1,0,1,1,0,0,0,0,1,0,1,1,1,1,1,1,0,0,0,1,0,1,0,1,1,0,0,1,1,0,0,1,0,0,0,1,0,1,0,0,0,1,0,0,0,0,0,0,0,0,0,0,0,1,1,1,1,1,0,1,0,1,1,0,1,1,1,0,0,1,0,0,0,1,0,1,0,1,0,1,1,0,0,0,0,1,1,0,1,1,1,0,1,1,1,0,1,0,0,0,0,0,0,0,1,1,0,0,0,0,0,0,0,1,0,1,0,0,1,0,1,1,0,0,0,0,0,0,0,0,0,0,1,1,0,0,1,1,0,1,0,0,1,0,1,0,0,0,1,0,1,1,1,0,0,0,1,1,0,1,0,1,1,1,0,1,0,0,0,1,0,1,0,1,1,1,1,0,1,0,0,0,1,0,1,1,1,1,1,1,0,0,0,1,0],\"type\":\"histogram\",\"xaxis\":\"x5\",\"yaxis\":\"y5\"},{\"name\":\"age\",\"x\":[29,38,24,61,45,55,49,17,53,37,33,33,54,78,67,29,33,56,57,37,34,36,48,80,20,53,19,63,80,63,47,48,66,41,47,62,32,53,46,61,14,42,14,56,80,45,33,20,60,36,26,46,69,21,52,40,27,23,60,18,30,80,77,68,42,32,10,63,52,67,52,69,27,40,42,50,53,31,23,14,65,8,80,60,55,56,20,54,29,39,22,42,40,48,33,51,5,66,45,52,69,49,16,80,6,40,28,27,32,60,21,27,72,24,53,25,61,25,80,51,65,37,60,52,18,40,67,25,46,59,36,49,37,27,64,28,67,40,79,25,80,46,66,30,34,41,46,20,80,54,48,26,42,71,47,74,51,46,54,53,44,70,30,45,35,56,46,47,58,39,27,47,21,80,59,30,36,65,68,48,43,57,18,67,60,80,80,54,50,45,51,40,65,23,49,21,27,62,25,58,37,52,29,67,72,44,68,57,35,32,57,28,52,25,80,52,78,34,58,80,21,26,48,45,60,75,47,71,41,52,45,57,48,53,37,42,34,67,10,41,38,52,80,68,53,73,80,35,66,43,29,19,55,80,76,28,25,19,62,29,46,42,36,12,23,40,25,38,59,30,52,27,22,45,63,73,45,48,54,17,20,49,32,48,80,18,44,18,80,43,51,36,25,57,53,17,36,52,47,50,26,61,38,19,51,23,52,77,72,56,36,19,42,37,37,45,20,23,21,48,41,5,7,60,37,36,52,17,36,28,25,26,45,75,66,54,64,28,72,66,70,28,17,47,20,26,65,80,69,24,51,64,33,17,37,68,43,68,57,80,43,51,40,74,33,80,35,57,44,21,54,31,51,29,13,20,51,33,80,56,19,52,7,30,52,73,64,20,56,27,67,37,76,31,58,53,69,23,33,43,66,76,80,80,65,37,80,56,71,67,69,80,40,80,44,80,54,75,80,48,37,56,69,56,43,63,73,51,69,70,74,36,45,80,76,67,32,53,39,45,73,57,60,70,64,80,52,80,57,58,73,63,28,54,52,66,68,73,64,66,53,57,78,52,54,79,57,79,75,57,49,57,77,80,53,80,77,55,80,56,34,56,63,52,58,62,40,49,80,36,68,80,71,67,45,54,58,80,37,67,66,35,80,69,67,73,61,41,30,58,62,66,18,66,67,73,70,44,50,24,49,62,45,43,57,80,78,74,77,61,52,53,66,65,61,80,33,64,54,67,47,34,61,71,42,80,73,48,45,80],\"type\":\"histogram\",\"xaxis\":\"x6\",\"yaxis\":\"y6\"}],                        {\"template\":{\"data\":{\"histogram2dcontour\":[{\"type\":\"histogram2dcontour\",\"colorbar\":{\"outlinewidth\":0,\"ticks\":\"\"},\"colorscale\":[[0.0,\"#0d0887\"],[0.1111111111111111,\"#46039f\"],[0.2222222222222222,\"#7201a8\"],[0.3333333333333333,\"#9c179e\"],[0.4444444444444444,\"#bd3786\"],[0.5555555555555556,\"#d8576b\"],[0.6666666666666666,\"#ed7953\"],[0.7777777777777778,\"#fb9f3a\"],[0.8888888888888888,\"#fdca26\"],[1.0,\"#f0f921\"]]}],\"choropleth\":[{\"type\":\"choropleth\",\"colorbar\":{\"outlinewidth\":0,\"ticks\":\"\"}}],\"histogram2d\":[{\"type\":\"histogram2d\",\"colorbar\":{\"outlinewidth\":0,\"ticks\":\"\"},\"colorscale\":[[0.0,\"#0d0887\"],[0.1111111111111111,\"#46039f\"],[0.2222222222222222,\"#7201a8\"],[0.3333333333333333,\"#9c179e\"],[0.4444444444444444,\"#bd3786\"],[0.5555555555555556,\"#d8576b\"],[0.6666666666666666,\"#ed7953\"],[0.7777777777777778,\"#fb9f3a\"],[0.8888888888888888,\"#fdca26\"],[1.0,\"#f0f921\"]]}],\"heatmap\":[{\"type\":\"heatmap\",\"colorbar\":{\"outlinewidth\":0,\"ticks\":\"\"},\"colorscale\":[[0.0,\"#0d0887\"],[0.1111111111111111,\"#46039f\"],[0.2222222222222222,\"#7201a8\"],[0.3333333333333333,\"#9c179e\"],[0.4444444444444444,\"#bd3786\"],[0.5555555555555556,\"#d8576b\"],[0.6666666666666666,\"#ed7953\"],[0.7777777777777778,\"#fb9f3a\"],[0.8888888888888888,\"#fdca26\"],[1.0,\"#f0f921\"]]}],\"heatmapgl\":[{\"type\":\"heatmapgl\",\"colorbar\":{\"outlinewidth\":0,\"ticks\":\"\"},\"colorscale\":[[0.0,\"#0d0887\"],[0.1111111111111111,\"#46039f\"],[0.2222222222222222,\"#7201a8\"],[0.3333333333333333,\"#9c179e\"],[0.4444444444444444,\"#bd3786\"],[0.5555555555555556,\"#d8576b\"],[0.6666666666666666,\"#ed7953\"],[0.7777777777777778,\"#fb9f3a\"],[0.8888888888888888,\"#fdca26\"],[1.0,\"#f0f921\"]]}],\"contourcarpet\":[{\"type\":\"contourcarpet\",\"colorbar\":{\"outlinewidth\":0,\"ticks\":\"\"}}],\"contour\":[{\"type\":\"contour\",\"colorbar\":{\"outlinewidth\":0,\"ticks\":\"\"},\"colorscale\":[[0.0,\"#0d0887\"],[0.1111111111111111,\"#46039f\"],[0.2222222222222222,\"#7201a8\"],[0.3333333333333333,\"#9c179e\"],[0.4444444444444444,\"#bd3786\"],[0.5555555555555556,\"#d8576b\"],[0.6666666666666666,\"#ed7953\"],[0.7777777777777778,\"#fb9f3a\"],[0.8888888888888888,\"#fdca26\"],[1.0,\"#f0f921\"]]}],\"surface\":[{\"type\":\"surface\",\"colorbar\":{\"outlinewidth\":0,\"ticks\":\"\"},\"colorscale\":[[0.0,\"#0d0887\"],[0.1111111111111111,\"#46039f\"],[0.2222222222222222,\"#7201a8\"],[0.3333333333333333,\"#9c179e\"],[0.4444444444444444,\"#bd3786\"],[0.5555555555555556,\"#d8576b\"],[0.6666666666666666,\"#ed7953\"],[0.7777777777777778,\"#fb9f3a\"],[0.8888888888888888,\"#fdca26\"],[1.0,\"#f0f921\"]]}],\"mesh3d\":[{\"type\":\"mesh3d\",\"colorbar\":{\"outlinewidth\":0,\"ticks\":\"\"}}],\"scatter\":[{\"fillpattern\":{\"fillmode\":\"overlay\",\"size\":10,\"solidity\":0.2},\"type\":\"scatter\"}],\"parcoords\":[{\"type\":\"parcoords\",\"line\":{\"colorbar\":{\"outlinewidth\":0,\"ticks\":\"\"}}}],\"scatterpolargl\":[{\"type\":\"scatterpolargl\",\"marker\":{\"colorbar\":{\"outlinewidth\":0,\"ticks\":\"\"}}}],\"bar\":[{\"error_x\":{\"color\":\"#2a3f5f\"},\"error_y\":{\"color\":\"#2a3f5f\"},\"marker\":{\"line\":{\"color\":\"#E5ECF6\",\"width\":0.5},\"pattern\":{\"fillmode\":\"overlay\",\"size\":10,\"solidity\":0.2}},\"type\":\"bar\"}],\"scattergeo\":[{\"type\":\"scattergeo\",\"marker\":{\"colorbar\":{\"outlinewidth\":0,\"ticks\":\"\"}}}],\"scatterpolar\":[{\"type\":\"scatterpolar\",\"marker\":{\"colorbar\":{\"outlinewidth\":0,\"ticks\":\"\"}}}],\"histogram\":[{\"marker\":{\"pattern\":{\"fillmode\":\"overlay\",\"size\":10,\"solidity\":0.2}},\"type\":\"histogram\"}],\"scattergl\":[{\"type\":\"scattergl\",\"marker\":{\"colorbar\":{\"outlinewidth\":0,\"ticks\":\"\"}}}],\"scatter3d\":[{\"type\":\"scatter3d\",\"line\":{\"colorbar\":{\"outlinewidth\":0,\"ticks\":\"\"}},\"marker\":{\"colorbar\":{\"outlinewidth\":0,\"ticks\":\"\"}}}],\"scattermapbox\":[{\"type\":\"scattermapbox\",\"marker\":{\"colorbar\":{\"outlinewidth\":0,\"ticks\":\"\"}}}],\"scatterternary\":[{\"type\":\"scatterternary\",\"marker\":{\"colorbar\":{\"outlinewidth\":0,\"ticks\":\"\"}}}],\"scattercarpet\":[{\"type\":\"scattercarpet\",\"marker\":{\"colorbar\":{\"outlinewidth\":0,\"ticks\":\"\"}}}],\"carpet\":[{\"aaxis\":{\"endlinecolor\":\"#2a3f5f\",\"gridcolor\":\"white\",\"linecolor\":\"white\",\"minorgridcolor\":\"white\",\"startlinecolor\":\"#2a3f5f\"},\"baxis\":{\"endlinecolor\":\"#2a3f5f\",\"gridcolor\":\"white\",\"linecolor\":\"white\",\"minorgridcolor\":\"white\",\"startlinecolor\":\"#2a3f5f\"},\"type\":\"carpet\"}],\"table\":[{\"cells\":{\"fill\":{\"color\":\"#EBF0F8\"},\"line\":{\"color\":\"white\"}},\"header\":{\"fill\":{\"color\":\"#C8D4E3\"},\"line\":{\"color\":\"white\"}},\"type\":\"table\"}],\"barpolar\":[{\"marker\":{\"line\":{\"color\":\"#E5ECF6\",\"width\":0.5},\"pattern\":{\"fillmode\":\"overlay\",\"size\":10,\"solidity\":0.2}},\"type\":\"barpolar\"}],\"pie\":[{\"automargin\":true,\"type\":\"pie\"}]},\"layout\":{\"autotypenumbers\":\"strict\",\"colorway\":[\"#636efa\",\"#EF553B\",\"#00cc96\",\"#ab63fa\",\"#FFA15A\",\"#19d3f3\",\"#FF6692\",\"#B6E880\",\"#FF97FF\",\"#FECB52\"],\"font\":{\"color\":\"#2a3f5f\"},\"hovermode\":\"closest\",\"hoverlabel\":{\"align\":\"left\"},\"paper_bgcolor\":\"white\",\"plot_bgcolor\":\"#E5ECF6\",\"polar\":{\"bgcolor\":\"#E5ECF6\",\"angularaxis\":{\"gridcolor\":\"white\",\"linecolor\":\"white\",\"ticks\":\"\"},\"radialaxis\":{\"gridcolor\":\"white\",\"linecolor\":\"white\",\"ticks\":\"\"}},\"ternary\":{\"bgcolor\":\"#E5ECF6\",\"aaxis\":{\"gridcolor\":\"white\",\"linecolor\":\"white\",\"ticks\":\"\"},\"baxis\":{\"gridcolor\":\"white\",\"linecolor\":\"white\",\"ticks\":\"\"},\"caxis\":{\"gridcolor\":\"white\",\"linecolor\":\"white\",\"ticks\":\"\"}},\"coloraxis\":{\"colorbar\":{\"outlinewidth\":0,\"ticks\":\"\"}},\"colorscale\":{\"sequential\":[[0.0,\"#0d0887\"],[0.1111111111111111,\"#46039f\"],[0.2222222222222222,\"#7201a8\"],[0.3333333333333333,\"#9c179e\"],[0.4444444444444444,\"#bd3786\"],[0.5555555555555556,\"#d8576b\"],[0.6666666666666666,\"#ed7953\"],[0.7777777777777778,\"#fb9f3a\"],[0.8888888888888888,\"#fdca26\"],[1.0,\"#f0f921\"]],\"sequentialminus\":[[0.0,\"#0d0887\"],[0.1111111111111111,\"#46039f\"],[0.2222222222222222,\"#7201a8\"],[0.3333333333333333,\"#9c179e\"],[0.4444444444444444,\"#bd3786\"],[0.5555555555555556,\"#d8576b\"],[0.6666666666666666,\"#ed7953\"],[0.7777777777777778,\"#fb9f3a\"],[0.8888888888888888,\"#fdca26\"],[1.0,\"#f0f921\"]],\"diverging\":[[0,\"#8e0152\"],[0.1,\"#c51b7d\"],[0.2,\"#de77ae\"],[0.3,\"#f1b6da\"],[0.4,\"#fde0ef\"],[0.5,\"#f7f7f7\"],[0.6,\"#e6f5d0\"],[0.7,\"#b8e186\"],[0.8,\"#7fbc41\"],[0.9,\"#4d9221\"],[1,\"#276419\"]]},\"xaxis\":{\"gridcolor\":\"white\",\"linecolor\":\"white\",\"ticks\":\"\",\"title\":{\"standoff\":15},\"zerolinecolor\":\"white\",\"automargin\":true,\"zerolinewidth\":2},\"yaxis\":{\"gridcolor\":\"white\",\"linecolor\":\"white\",\"ticks\":\"\",\"title\":{\"standoff\":15},\"zerolinecolor\":\"white\",\"automargin\":true,\"zerolinewidth\":2},\"scene\":{\"xaxis\":{\"backgroundcolor\":\"#E5ECF6\",\"gridcolor\":\"white\",\"linecolor\":\"white\",\"showbackground\":true,\"ticks\":\"\",\"zerolinecolor\":\"white\",\"gridwidth\":2},\"yaxis\":{\"backgroundcolor\":\"#E5ECF6\",\"gridcolor\":\"white\",\"linecolor\":\"white\",\"showbackground\":true,\"ticks\":\"\",\"zerolinecolor\":\"white\",\"gridwidth\":2},\"zaxis\":{\"backgroundcolor\":\"#E5ECF6\",\"gridcolor\":\"white\",\"linecolor\":\"white\",\"showbackground\":true,\"ticks\":\"\",\"zerolinecolor\":\"white\",\"gridwidth\":2}},\"shapedefaults\":{\"line\":{\"color\":\"#2a3f5f\"}},\"annotationdefaults\":{\"arrowcolor\":\"#2a3f5f\",\"arrowhead\":0,\"arrowwidth\":1},\"geo\":{\"bgcolor\":\"white\",\"landcolor\":\"#E5ECF6\",\"subunitcolor\":\"white\",\"showland\":true,\"showlakes\":true,\"lakecolor\":\"white\"},\"title\":{\"x\":0.05},\"mapbox\":{\"style\":\"light\"}}},\"xaxis\":{\"anchor\":\"y\",\"domain\":[0.0,0.45]},\"yaxis\":{\"anchor\":\"x\",\"domain\":[0.0,0.26666666666666666]},\"xaxis2\":{\"anchor\":\"y2\",\"domain\":[0.55,1.0]},\"yaxis2\":{\"anchor\":\"x2\",\"domain\":[0.0,0.26666666666666666]},\"xaxis3\":{\"anchor\":\"y3\",\"domain\":[0.0,0.45]},\"yaxis3\":{\"anchor\":\"x3\",\"domain\":[0.36666666666666664,0.6333333333333333]},\"xaxis4\":{\"anchor\":\"y4\",\"domain\":[0.55,1.0]},\"yaxis4\":{\"anchor\":\"x4\",\"domain\":[0.36666666666666664,0.6333333333333333]},\"xaxis5\":{\"anchor\":\"y5\",\"domain\":[0.0,0.45]},\"yaxis5\":{\"anchor\":\"x5\",\"domain\":[0.7333333333333333,1.0]},\"xaxis6\":{\"anchor\":\"y6\",\"domain\":[0.55,1.0]},\"yaxis6\":{\"anchor\":\"x6\",\"domain\":[0.7333333333333333,1.0]}},                        {\"responsive\": true}                    ).then(function(){\n",
       "                            \n",
       "var gd = document.getElementById('f28b1b69-d494-479f-ad62-06a4cc4c81b2');\n",
       "var x = new MutationObserver(function (mutations, observer) {{\n",
       "        var display = window.getComputedStyle(gd).display;\n",
       "        if (!display || display === 'none') {{\n",
       "            console.log([gd, 'removed!']);\n",
       "            Plotly.purge(gd);\n",
       "            observer.disconnect();\n",
       "        }}\n",
       "}});\n",
       "\n",
       "// Listen for the removal of the full notebook cells\n",
       "var notebookContainer = gd.closest('#notebook-container');\n",
       "if (notebookContainer) {{\n",
       "    x.observe(notebookContainer, {childList: true});\n",
       "}}\n",
       "\n",
       "// Listen for the clearing of the current output cell\n",
       "var outputEl = gd.closest('.output');\n",
       "if (outputEl) {{\n",
       "    x.observe(outputEl, {childList: true});\n",
       "}}\n",
       "\n",
       "                        })                };                            </script>        </div>\n",
       "</body>\n",
       "</html>"
      ]
     },
     "metadata": {},
     "output_type": "display_data"
    }
   ],
   "source": [
    "columns = [\"gender\", \"age\", \"hypertension\", \"heart_disease\", \"bmi\", \"smoking_history\"]\n",
    "\n",
    "fig = make_subplots(rows=3, cols=2, start_cell=\"bottom-left\")\n",
    "\n",
    "nrows = 3\n",
    "ncols = 2\n",
    "\n",
    "# Iterate through columns in reverse order\n",
    "for i in range(nrows):\n",
    "    for j in range(ncols):\n",
    "        col_index = (nrows - i - 1) * ncols + j  # Calculate the correct column index in reverse order\n",
    "        if col_index < len(columns):\n",
    "            column_name = columns[col_index]\n",
    "            fig.add_trace(go.Histogram(x=df_data[column_name], name=column_name), row=i + 1, col=j + 1)\n",
    "\n",
    "\n",
    "fig.show(renderer=\"colab\")"
   ]
  },
  {
   "cell_type": "markdown",
   "metadata": {
    "id": "WR4lPBpMzbNL"
   },
   "source": [
    "### Supervised Learning (Classification)\n",
    "\n",
    "Your task here is to build a classifier to differentiate potent compounds from less potent ones."
   ]
  },
  {
   "cell_type": "markdown",
   "metadata": {
    "id": "gdhIrs-CzbNL"
   },
   "source": [
    "Use the code below to select the select specific columns for the basic features (**df_data**) and fingerprints (**df_fprs**)) datasets."
   ]
  },
  {
   "cell_type": "code",
   "execution_count": null,
   "metadata": {
    "id": "YDw_V5O3zbNL"
   },
   "outputs": [],
   "source": [
    "target = 'potency_class'\n",
    "\n",
    "# Basic features dataset\n",
    "features = [\"MolLogP\", \"Acceptor_Count\", \"Donor_Count\", \"NumRotatableBonds\", \\\n",
    "           \"RingCount\", \"MolWt\"]\n",
    "\n",
    "X = df_data[features]\n",
    "y = df_data[target]\n",
    "\n",
    "# What is the best TEST_SIZE?\n",
    "TEST_SIZE = 0.26\n",
    "\n",
    "X_train, X_test, y_train, y_test = train_test_split(X, y, test_size=TEST_SIZE, \\\n",
    "                                                    random_state=42)\n",
    "\n",
    "# Selecting same train and test entries in the Fingerprints dataset\n",
    "X_train_fpr = df_fprs.iloc[X_train.index]\n",
    "X_train_fpr = X_train_fpr.loc[:,38:63] # Selecting only a specific set of features/columns using indexes\n",
    "X_test_fpr = df_fprs.iloc[X_test.index]\n",
    "X_test_fpr = X_test_fpr.loc[:,38:63] # It needs to be the equal to the X_train_fpr\n",
    "\n",
    "y_train_fpr = df_fprs.iloc[X_train.index][target]\n",
    "y_test_fpr = df_fprs.iloc[X_test.index][target]\n",
    "\n",
    "# print(y_train.value_counts())\n",
    "utils.plot_train_test_class(y_train, y_test)"
   ]
  },
  {
   "cell_type": "markdown",
   "metadata": {
    "id": "oQakcgszzbNQ"
   },
   "source": [
    "#### Why is data splitting necessary?\n",
    "\n",
    "If you check in the code lines above you used a function \"train_test_split\". This function divided our data into two subsets. One part is used to evaluate or test the data and the other to train the model.\n",
    "\n",
    "This is step is very important because it helps ensure the creation of data models and processes that use data models are accurate. Using the the test set (a subset completely unseen during trainning) you can estimate the performance of the model when it is applied to new data points.  "
   ]
  },
  {
   "cell_type": "markdown",
   "metadata": {
    "id": "4f2dqbUIzbNS"
   },
   "source": [
    "#### Decision Tree\n",
    "\n",
    "Decision trees are composed of if/else questions disposed in a hierarchical manner, following these questions the model is capable of reaching a decision. In the case of our question, the actual output are 'less_potent' or 'potent' labels. The decision to reach prediction is based on the features (graph based signatures and auxiliary features) we used as input for the ML algorithm."
   ]
  },
  {
   "cell_type": "markdown",
   "metadata": {
    "id": "pexx2g4ZzbNS"
   },
   "source": [
    "##### Training on the basic set of features"
   ]
  },
  {
   "cell_type": "code",
   "execution_count": null,
   "metadata": {
    "id": "7w6lPO30zbNS"
   },
   "outputs": [],
   "source": [
    "clf = tree.DecisionTreeClassifier(max_depth=3)\n",
    "y_pred_train = cross_val_predict(clf, X_train, y_train, cv=5)\n",
    "\n",
    "clf.fit(X_train, y_train)\n",
    "y_pred_test = clf.predict(X_test)\n",
    "\n",
    "utils.gen_train_test_cm(y_train, y_pred_train, y_test, y_pred_test, ['less_potent', 'potent'])"
   ]
  },
  {
   "cell_type": "code",
   "execution_count": null,
   "metadata": {
    "id": "LWK4tBzAzbNS"
   },
   "outputs": [],
   "source": [
    "utils.gen_train_test_roc(y_train, y_pred_train, y_test, y_pred_test, ['less_potent', 'potent'])"
   ]
  },
  {
   "cell_type": "markdown",
   "metadata": {
    "id": "PJunlx9gzbNT"
   },
   "source": [
    "What does the decision tree looks like?"
   ]
  },
  {
   "cell_type": "code",
   "execution_count": null,
   "metadata": {
    "id": "E-dBBsTRzbNT"
   },
   "outputs": [],
   "source": [
    "fig, axes = plt.subplots(nrows=1 ,ncols=1, figsize=(9,6), dpi=300)\n",
    "tree.plot_tree(clf, feature_names=X_train.columns, class_names=['less_potent', 'potent'], filled=True)\n",
    "plt.show()"
   ]
  },
  {
   "cell_type": "code",
   "execution_count": 56,
   "metadata": {
    "executionInfo": {
     "elapsed": 6,
     "status": "ok",
     "timestamp": 1688358319189,
     "user": {
      "displayName": "Alex de Sá",
      "userId": "12505277789962402202"
     },
     "user_tz": -600
    },
    "id": "QpFtcF6d_hPq"
   },
   "outputs": [],
   "source": []
  },
  {
   "cell_type": "markdown",
   "metadata": {
    "id": "0PfXUQk_zbNT"
   },
   "source": [
    "Which features are more important for the model?"
   ]
  },
  {
   "cell_type": "code",
   "execution_count": null,
   "metadata": {
    "id": "3lB0f0rTzbNT"
   },
   "outputs": [],
   "source": [
    "utils.feat_importance(clf)"
   ]
  },
  {
   "cell_type": "markdown",
   "metadata": {
    "id": "E_K6RvFDzbNT"
   },
   "source": [
    "##### Training on the Fingerprint-based set of features"
   ]
  },
  {
   "cell_type": "code",
   "execution_count": null,
   "metadata": {
    "colab": {
     "base_uri": "https://localhost:8080/",
     "height": 942
    },
    "executionInfo": {
     "elapsed": 392,
     "status": "ok",
     "timestamp": 1688356233139,
     "user": {
      "displayName": "Alex de Sá",
      "userId": "12505277789962402202"
     },
     "user_tz": -600
    },
    "id": "KyBwdAhszbNT",
    "outputId": "10903d46-a612-4b87-89f9-3f6bcd9ced0a"
   },
   "outputs": [
    {
     "name": "stdout",
     "output_type": "stream",
     "text": [
      "Performance on Training (k-fold cross validation)\n",
      "              precision    recall  f1-score   support\n",
      "\n",
      " less_potent       0.57      0.43      0.49       357\n",
      "      potent       0.69      0.80      0.74       562\n",
      "\n",
      "    accuracy                           0.65       919\n",
      "   macro avg       0.63      0.61      0.61       919\n",
      "weighted avg       0.64      0.65      0.64       919\n",
      "\n",
      "Performance on Test set\n",
      "              precision    recall  f1-score   support\n",
      "\n",
      " less_potent       0.62      0.46      0.53       137\n",
      "      potent       0.67      0.80      0.73       186\n",
      "\n",
      "    accuracy                           0.65       323\n",
      "   macro avg       0.65      0.63      0.63       323\n",
      "weighted avg       0.65      0.65      0.64       323\n",
      "\n"
     ]
    },
    {
     "data": {
      "image/png": "[encoded data removed]",
      "text/plain": [
       "<Figure size 1400x900 with 2 Axes>"
      ]
     },
     "metadata": {},
     "output_type": "display_data"
    }
   ],
   "source": [
    "clf = tree.DecisionTreeClassifier(max_depth=3)\n",
    "y_pred_train_fpr = cross_val_predict(clf, X_train_fpr, y_train_fpr, cv=5)\n",
    "\n",
    "clf.fit(X_train_fpr, y_train_fpr)\n",
    "y_pred_test_fpr = clf.predict(X_test_fpr)\n",
    "\n",
    "utils.gen_train_test_cm(y_train_fpr, y_pred_train_fpr, y_test_fpr, y_pred_test_fpr, ['less_potent', 'potent'])"
   ]
  },
  {
   "cell_type": "code",
   "execution_count": null,
   "metadata": {
    "id": "OsLI7-4EzbNU"
   },
   "outputs": [],
   "source": [
    "utils.gen_train_test_roc(y_train_fpr, y_pred_train_fpr, y_test_fpr, y_pred_test_fpr, ['less_potent', 'potent'])"
   ]
  },
  {
   "cell_type": "markdown",
   "metadata": {
    "id": "lLDh4l-AzbNU"
   },
   "source": [
    "What does the decision tree looks like?"
   ]
  },
  {
   "cell_type": "code",
   "execution_count": null,
   "metadata": {
    "id": "2o4bBbGTzbNU"
   },
   "outputs": [],
   "source": [
    "fig, axes = plt.subplots(nrows=1 ,ncols=1, figsize=(9,6), dpi=300)\n",
    "tree.plot_tree(clf, feature_names=X_train_fpr.columns, class_names=['less_potent', 'potent'], filled=True)\n",
    "plt.show()"
   ]
  },
  {
   "cell_type": "markdown",
   "metadata": {
    "id": "9_rtx-I_zbNU"
   },
   "source": [
    "Which features are more important for the model?"
   ]
  },
  {
   "cell_type": "code",
   "execution_count": null,
   "metadata": {
    "id": "m1OY81I0zbNU"
   },
   "outputs": [],
   "source": [
    "utils.feat_importance(clf)"
   ]
  }
 ],
 "metadata": {
  "colab": {
   "provenance": [
    {
     "file_id": "https://github.com/carlosmr12/mlwk2023/blob/master/mlapp.ipynb",
     "timestamp": 1688355066303
    }
   ]
  },
  "kernelspec": {
   "display_name": "Python 3 (ipykernel)",
   "language": "python",
   "name": "python3"
  },
  "language_info": {
   "codemirror_mode": {
    "name": "ipython",
    "version": 3
   },
   "file_extension": ".py",
   "mimetype": "text/x-python",
   "name": "python",
   "nbconvert_exporter": "python",
   "pygments_lexer": "ipython3",
   "version": "3.10.13"
  }
 },
 "nbformat": 4,
 "nbformat_minor": 4
}
